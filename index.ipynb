{
 "cells": [
  {
   "cell_type": "markdown",
   "metadata": {},
   "source": [
    "# Convolutional Neural Networks - Codealong\n",
    "\n",
    "## Introduction\n",
    "\n",
    "In this codealong, we will reinvestigate our previous Santa image classification example. To do this, we will review loading a dataset from a nested directory structure and building a baseline model. From there, we'll build a CNN and demonstrate its improved performance on image recognition tasks. It is recommended you run the cells in order to further explore variables and investigate the code snippets themselves. However, please note that some cells (particularly training cells later on) may take several minutes to run. (On a Macbook pro the entire notebook took ~15 minutes to run.)\n",
    "\n",
    "## Objectives  \n",
    "\n",
    "You will be able to:\n",
    "\n",
    "- Load images from a hierarchical file structure using an image datagenerator \n",
    "- Explain why one might augment image data when training a neural network \n",
    "- Apply data augmentation to image files before training a neural network \n",
    "- Build a CNN using Keras "
   ]
  },
  {
   "cell_type": "markdown",
   "metadata": {},
   "source": [
    "## Properly store your images \n",
    "\n",
    "When you're analyzing your image data, file management is important. We will be using the santa images again, but this time, they are stored in two folders: `santa` and `not_santa`. We want to work with a `train`, `validation`, and `test` datasets now, as we know by now that this is the best way to obtain unbiased estimate of your model performance.  \n",
    "\n",
    "Let's import libraries `os` and `shutil`, as we'll need them to create the new folders and move the new files in there."
   ]
  },
  {
   "cell_type": "code",
   "execution_count": 10,
   "metadata": {
    "ExecuteTime": {
     "end_time": "2020-09-14T23:58:19.521491Z",
     "start_time": "2020-09-14T23:58:19.518797Z"
    }
   },
   "outputs": [],
   "source": [
    "import os, shutil"
   ]
  },
  {
   "cell_type": "markdown",
   "metadata": {},
   "source": [
    "Below we create three objects representing the existing directories: `data/santa/` as `data_santa_dir` and `data/not_santa/` as `data_not_santa_dir`. We will create a new directory `split/` as `new_dir`, where we will split the dataset in three groups (or three subdirectories): `train`, `test`, and `validation`, each containing `santa` and `not_santa` subfolders. The final desired structure is represented below: \n",
    "\n",
    "![title](images/folder_structure.png)"
   ]
  },
  {
   "cell_type": "code",
   "execution_count": 11,
   "metadata": {
    "ExecuteTime": {
     "end_time": "2020-09-14T23:58:19.531280Z",
     "start_time": "2020-09-14T23:58:19.522802Z"
    }
   },
   "outputs": [],
   "source": [
    "data_santa_dir = 'data/santa/'\n",
    "data_not_santa_dir = 'data/not_santa/'\n",
    "new_dir = 'split/'"
   ]
  },
  {
   "cell_type": "markdown",
   "metadata": {},
   "source": [
    "You can use `os.listdir()` to create an object that stores all the relevant image names. "
   ]
  },
  {
   "cell_type": "code",
   "execution_count": 12,
   "metadata": {
    "ExecuteTime": {
     "end_time": "2020-09-14T23:58:19.538291Z",
     "start_time": "2020-09-14T23:58:19.533268Z"
    }
   },
   "outputs": [],
   "source": [
    "imgs_santa = [file for file in os.listdir(data_santa_dir) if file.endswith('.jpg')]"
   ]
  },
  {
   "cell_type": "code",
   "execution_count": 13,
   "metadata": {
    "ExecuteTime": {
     "end_time": "2020-09-14T23:58:19.544256Z",
     "start_time": "2020-09-14T23:58:19.540259Z"
    }
   },
   "outputs": [
    {
     "data": {
      "text/plain": [
       "['00000000.jpg',\n",
       " '00000001.jpg',\n",
       " '00000003.jpg',\n",
       " '00000004.jpg',\n",
       " '00000005.jpg',\n",
       " '00000006.jpg',\n",
       " '00000007.jpg',\n",
       " '00000008.jpg',\n",
       " '00000009.jpg',\n",
       " '00000010.jpg']"
      ]
     },
     "execution_count": 13,
     "metadata": {},
     "output_type": "execute_result"
    }
   ],
   "source": [
    "imgs_santa[0:10]"
   ]
  },
  {
   "cell_type": "markdown",
   "metadata": {},
   "source": [
    "Let's see how many images there are in the `santa` directory."
   ]
  },
  {
   "cell_type": "code",
   "execution_count": 44,
   "metadata": {
    "ExecuteTime": {
     "end_time": "2020-09-15T00:16:55.431556Z",
     "start_time": "2020-09-15T00:16:55.427582Z"
    }
   },
   "outputs": [
    {
     "name": "stdout",
     "output_type": "stream",
     "text": [
      "There are 461 santa images\n"
     ]
    }
   ],
   "source": [
    "print('There are', len(imgs_santa), 'santa images')"
   ]
  },
  {
   "cell_type": "markdown",
   "metadata": {},
   "source": [
    "Now, repeat this for the `not_santa` directory: "
   ]
  },
  {
   "cell_type": "code",
   "execution_count": 15,
   "metadata": {
    "ExecuteTime": {
     "end_time": "2020-09-14T23:58:19.556206Z",
     "start_time": "2020-09-14T23:58:19.552229Z"
    }
   },
   "outputs": [],
   "source": [
    "imgs_not_santa = [file for file in os.listdir(data_not_santa_dir) if file.endswith('.jpg')]"
   ]
  },
  {
   "cell_type": "code",
   "execution_count": 16,
   "metadata": {
    "ExecuteTime": {
     "end_time": "2020-09-14T23:58:19.562190Z",
     "start_time": "2020-09-14T23:58:19.558202Z"
    }
   },
   "outputs": [
    {
     "name": "stdout",
     "output_type": "stream",
     "text": [
      "There are 461 images without santa\n"
     ]
    }
   ],
   "source": [
    "print('There are', len(imgs_not_santa), 'images without santa')"
   ]
  },
  {
   "cell_type": "markdown",
   "metadata": {},
   "source": [
    "Create all the folders and subfolders in order to get the structure represented above. You can use `os.path.join()` to create strings that will be used later on to generate new directories."
   ]
  },
  {
   "cell_type": "code",
   "execution_count": 17,
   "metadata": {
    "ExecuteTime": {
     "end_time": "2020-09-14T23:58:19.568226Z",
     "start_time": "2020-09-14T23:58:19.563187Z"
    }
   },
   "outputs": [
    {
     "ename": "FileExistsError",
     "evalue": "[WinError 183] Cannot create a file when that file already exists: 'split/'",
     "output_type": "error",
     "traceback": [
      "\u001b[1;31m---------------------------------------------------------------------------\u001b[0m",
      "\u001b[1;31mFileExistsError\u001b[0m                           Traceback (most recent call last)",
      "\u001b[1;32m<ipython-input-17-0d1f8d3cb245>\u001b[0m in \u001b[0;36m<module>\u001b[1;34m()\u001b[0m\n\u001b[1;32m----> 1\u001b[1;33m \u001b[0mos\u001b[0m\u001b[1;33m.\u001b[0m\u001b[0mmkdir\u001b[0m\u001b[1;33m(\u001b[0m\u001b[0mnew_dir\u001b[0m\u001b[1;33m)\u001b[0m\u001b[1;33m\u001b[0m\u001b[0m\n\u001b[0m",
      "\u001b[1;31mFileExistsError\u001b[0m: [WinError 183] Cannot create a file when that file already exists: 'split/'"
     ]
    }
   ],
   "source": [
    "# os.mkdir(new_dir)"
   ]
  },
  {
   "cell_type": "code",
   "execution_count": 18,
   "metadata": {
    "ExecuteTime": {
     "end_time": "2020-09-14T23:58:37.862874Z",
     "start_time": "2020-09-14T23:58:37.858804Z"
    }
   },
   "outputs": [],
   "source": [
    "train_folder = os.path.join(new_dir, 'train')\n",
    "train_santa = os.path.join(train_folder, 'santa')\n",
    "train_not_santa = os.path.join(train_folder, 'not_santa')\n",
    "\n",
    "test_folder = os.path.join(new_dir, 'test')\n",
    "test_santa = os.path.join(test_folder, 'santa')\n",
    "test_not_santa = os.path.join(test_folder, 'not_santa')\n",
    "\n",
    "val_folder = os.path.join(new_dir, 'validation')\n",
    "val_santa = os.path.join(val_folder, 'santa')\n",
    "val_not_santa = os.path.join(val_folder, 'not_santa')"
   ]
  },
  {
   "cell_type": "code",
   "execution_count": 19,
   "metadata": {
    "ExecuteTime": {
     "end_time": "2020-09-14T23:58:41.218746Z",
     "start_time": "2020-09-14T23:58:41.213773Z"
    }
   },
   "outputs": [
    {
     "data": {
      "text/plain": [
       "'split/train\\\\santa'"
      ]
     },
     "execution_count": 19,
     "metadata": {},
     "output_type": "execute_result"
    }
   ],
   "source": [
    "train_santa"
   ]
  },
  {
   "cell_type": "markdown",
   "metadata": {},
   "source": [
    "Now use all the path strings you created to make new directories. You can use `os.mkdir()` to do this. Go have a look at your directory and see if this worked!"
   ]
  },
  {
   "cell_type": "code",
   "execution_count": 20,
   "metadata": {
    "ExecuteTime": {
     "end_time": "2020-09-14T23:58:42.515409Z",
     "start_time": "2020-09-14T23:58:42.505404Z"
    }
   },
   "outputs": [
    {
     "ename": "FileExistsError",
     "evalue": "[WinError 183] Cannot create a file when that file already exists: 'split/test'",
     "output_type": "error",
     "traceback": [
      "\u001b[1;31m---------------------------------------------------------------------------\u001b[0m",
      "\u001b[1;31mFileExistsError\u001b[0m                           Traceback (most recent call last)",
      "\u001b[1;32m<ipython-input-20-9ef278089501>\u001b[0m in \u001b[0;36m<module>\u001b[1;34m()\u001b[0m\n\u001b[1;32m----> 1\u001b[1;33m \u001b[0mos\u001b[0m\u001b[1;33m.\u001b[0m\u001b[0mmkdir\u001b[0m\u001b[1;33m(\u001b[0m\u001b[0mtest_folder\u001b[0m\u001b[1;33m)\u001b[0m\u001b[1;33m\u001b[0m\u001b[0m\n\u001b[0m\u001b[0;32m      2\u001b[0m \u001b[0mos\u001b[0m\u001b[1;33m.\u001b[0m\u001b[0mmkdir\u001b[0m\u001b[1;33m(\u001b[0m\u001b[0mtest_santa\u001b[0m\u001b[1;33m)\u001b[0m\u001b[1;33m\u001b[0m\u001b[0m\n\u001b[0;32m      3\u001b[0m \u001b[0mos\u001b[0m\u001b[1;33m.\u001b[0m\u001b[0mmkdir\u001b[0m\u001b[1;33m(\u001b[0m\u001b[0mtest_not_santa\u001b[0m\u001b[1;33m)\u001b[0m\u001b[1;33m\u001b[0m\u001b[0m\n\u001b[0;32m      4\u001b[0m \u001b[1;33m\u001b[0m\u001b[0m\n\u001b[0;32m      5\u001b[0m \u001b[0mos\u001b[0m\u001b[1;33m.\u001b[0m\u001b[0mmkdir\u001b[0m\u001b[1;33m(\u001b[0m\u001b[0mtrain_folder\u001b[0m\u001b[1;33m)\u001b[0m\u001b[1;33m\u001b[0m\u001b[0m\n",
      "\u001b[1;31mFileExistsError\u001b[0m: [WinError 183] Cannot create a file when that file already exists: 'split/test'"
     ]
    }
   ],
   "source": [
    "os.mkdir(test_folder)\n",
    "os.mkdir(test_santa)\n",
    "os.mkdir(test_not_santa)\n",
    "\n",
    "os.mkdir(train_folder)\n",
    "os.mkdir(train_santa)\n",
    "os.mkdir(train_not_santa)\n",
    "\n",
    "os.mkdir(val_folder)\n",
    "os.mkdir(val_santa)\n",
    "os.mkdir(val_not_santa)"
   ]
  },
  {
   "cell_type": "markdown",
   "metadata": {},
   "source": [
    "Copy the Santa images in the three santa subfolders. Let's put the first 271 images in the training set, the next 100 images in the validation set and the final 90 images in the test set."
   ]
  },
  {
   "cell_type": "code",
   "execution_count": 21,
   "metadata": {
    "ExecuteTime": {
     "end_time": "2020-09-14T23:59:25.999222Z",
     "start_time": "2020-09-14T23:59:25.663516Z"
    }
   },
   "outputs": [],
   "source": [
    "# train santa\n",
    "imgs = imgs_santa[:271]\n",
    "for img in imgs:\n",
    "    origin = os.path.join(data_santa_dir, img)\n",
    "    destination = os.path.join(train_santa, img)\n",
    "    shutil.copyfile(origin, destination)"
   ]
  },
  {
   "cell_type": "code",
   "execution_count": 22,
   "metadata": {
    "ExecuteTime": {
     "end_time": "2020-09-15T00:02:12.437228Z",
     "start_time": "2020-09-15T00:02:12.305774Z"
    }
   },
   "outputs": [],
   "source": [
    "# validation santa\n",
    "imgs = imgs_santa[271:371]\n",
    "for img in imgs:\n",
    "    origin = os.path.join(data_santa_dir, img)\n",
    "    destination = os.path.join(val_santa, img)\n",
    "    shutil.copyfile(origin, destination)"
   ]
  },
  {
   "cell_type": "code",
   "execution_count": 23,
   "metadata": {
    "ExecuteTime": {
     "end_time": "2020-09-15T00:02:12.747688Z",
     "start_time": "2020-09-15T00:02:12.627415Z"
    }
   },
   "outputs": [],
   "source": [
    "# test santa\n",
    "imgs = imgs_santa[371:]\n",
    "for img in imgs:\n",
    "    origin = os.path.join(data_santa_dir, img)\n",
    "    destination = os.path.join(test_santa, img)\n",
    "    shutil.copyfile(origin, destination)"
   ]
  },
  {
   "cell_type": "markdown",
   "metadata": {},
   "source": [
    "Now, repeat all this for the `not_santa` images!"
   ]
  },
  {
   "cell_type": "code",
   "execution_count": 24,
   "metadata": {
    "ExecuteTime": {
     "end_time": "2020-09-15T00:02:19.886672Z",
     "start_time": "2020-09-15T00:02:19.397945Z"
    }
   },
   "outputs": [],
   "source": [
    "# train not_santa\n",
    "imgs = imgs_not_santa[:271]\n",
    "for img in imgs:\n",
    "    origin = os.path.join(data_not_santa_dir, img)\n",
    "    destination = os.path.join(train_not_santa, img)\n",
    "    shutil.copyfile(origin, destination)\n",
    "# validation not_santa\n",
    "imgs = imgs_not_santa[271:371]\n",
    "for img in imgs:\n",
    "    origin = os.path.join(data_not_santa_dir, img)\n",
    "    destination = os.path.join(val_not_santa, img)\n",
    "    shutil.copyfile(origin, destination)\n",
    "# test not_santa\n",
    "imgs = imgs_not_santa[371:]\n",
    "for img in imgs:\n",
    "    origin = os.path.join(data_not_santa_dir, img)\n",
    "    destination = os.path.join(test_not_santa, img)\n",
    "    shutil.copyfile(origin, destination)"
   ]
  },
  {
   "cell_type": "markdown",
   "metadata": {},
   "source": [
    "Let's print out how many images we have in each directory so we know for sure our numbers are right!"
   ]
  },
  {
   "cell_type": "code",
   "execution_count": 25,
   "metadata": {
    "ExecuteTime": {
     "end_time": "2020-09-15T00:02:35.494596Z",
     "start_time": "2020-09-15T00:02:35.489608Z"
    }
   },
   "outputs": [
    {
     "name": "stdout",
     "output_type": "stream",
     "text": [
      "There are 381 santa images in the training set\n"
     ]
    }
   ],
   "source": [
    "print('There are', len(os.listdir(train_santa)), 'santa images in the training set')"
   ]
  },
  {
   "cell_type": "code",
   "execution_count": 26,
   "metadata": {
    "ExecuteTime": {
     "end_time": "2020-09-15T00:02:35.773727Z",
     "start_time": "2020-09-15T00:02:35.768739Z"
    }
   },
   "outputs": [
    {
     "name": "stdout",
     "output_type": "stream",
     "text": [
      "There are 182 santa images in the validation set\n"
     ]
    }
   ],
   "source": [
    "print('There are', len(os.listdir(val_santa)), 'santa images in the validation set')"
   ]
  },
  {
   "cell_type": "code",
   "execution_count": 27,
   "metadata": {
    "ExecuteTime": {
     "end_time": "2020-09-15T00:02:35.953643Z",
     "start_time": "2020-09-15T00:02:35.949656Z"
    }
   },
   "outputs": [
    {
     "name": "stdout",
     "output_type": "stream",
     "text": [
      "There are 167 santa images in the test set\n"
     ]
    }
   ],
   "source": [
    "print('There are', len(os.listdir(test_santa)), 'santa images in the test set')"
   ]
  },
  {
   "cell_type": "code",
   "execution_count": 28,
   "metadata": {
    "ExecuteTime": {
     "end_time": "2020-09-15T00:02:36.130357Z",
     "start_time": "2020-09-15T00:02:36.125336Z"
    }
   },
   "outputs": [
    {
     "name": "stdout",
     "output_type": "stream",
     "text": [
      "There are 383 images without santa in the train set\n"
     ]
    }
   ],
   "source": [
    "print('There are', len(os.listdir(train_not_santa)), 'images without santa in the train set')"
   ]
  },
  {
   "cell_type": "code",
   "execution_count": 29,
   "metadata": {
    "ExecuteTime": {
     "end_time": "2020-09-15T00:02:36.306711Z",
     "start_time": "2020-09-15T00:02:36.301721Z"
    }
   },
   "outputs": [
    {
     "name": "stdout",
     "output_type": "stream",
     "text": [
      "There are 178 images without santa in the validation set\n"
     ]
    }
   ],
   "source": [
    "print('There are', len(os.listdir(val_not_santa)), 'images without santa in the validation set')"
   ]
  },
  {
   "cell_type": "code",
   "execution_count": 30,
   "metadata": {
    "ExecuteTime": {
     "end_time": "2020-09-15T00:02:36.474921Z",
     "start_time": "2020-09-15T00:02:36.469935Z"
    }
   },
   "outputs": [
    {
     "name": "stdout",
     "output_type": "stream",
     "text": [
      "There are 157 images without santa in the test set\n"
     ]
    }
   ],
   "source": [
    "print('There are', len(os.listdir(test_not_santa)), 'images without santa in the test set')"
   ]
  },
  {
   "cell_type": "markdown",
   "metadata": {},
   "source": [
    "## Use a densely connected network as a baseline"
   ]
  },
  {
   "cell_type": "markdown",
   "metadata": {},
   "source": [
    "Now that we've a handle on our data, we can easily use Keras' module with image-processing tools. Let's import the necessary libraries below. "
   ]
  },
  {
   "cell_type": "code",
   "execution_count": 31,
   "metadata": {
    "ExecuteTime": {
     "end_time": "2020-09-15T00:02:56.444235Z",
     "start_time": "2020-09-15T00:02:54.305142Z"
    }
   },
   "outputs": [
    {
     "name": "stderr",
     "output_type": "stream",
     "text": [
      "Using TensorFlow backend.\n",
      "C:\\Users\\tcast\\anaconda3\\envs\\learn-env\\lib\\site-packages\\tensorflow\\python\\framework\\dtypes.py:517: FutureWarning: Passing (type, 1) or '1type' as a synonym of type is deprecated; in a future version of numpy, it will be understood as (type, (1,)) / '(1,)type'.\n",
      "  _np_qint8 = np.dtype([(\"qint8\", np.int8, 1)])\n",
      "C:\\Users\\tcast\\anaconda3\\envs\\learn-env\\lib\\site-packages\\tensorflow\\python\\framework\\dtypes.py:518: FutureWarning: Passing (type, 1) or '1type' as a synonym of type is deprecated; in a future version of numpy, it will be understood as (type, (1,)) / '(1,)type'.\n",
      "  _np_quint8 = np.dtype([(\"quint8\", np.uint8, 1)])\n",
      "C:\\Users\\tcast\\anaconda3\\envs\\learn-env\\lib\\site-packages\\tensorflow\\python\\framework\\dtypes.py:519: FutureWarning: Passing (type, 1) or '1type' as a synonym of type is deprecated; in a future version of numpy, it will be understood as (type, (1,)) / '(1,)type'.\n",
      "  _np_qint16 = np.dtype([(\"qint16\", np.int16, 1)])\n",
      "C:\\Users\\tcast\\anaconda3\\envs\\learn-env\\lib\\site-packages\\tensorflow\\python\\framework\\dtypes.py:520: FutureWarning: Passing (type, 1) or '1type' as a synonym of type is deprecated; in a future version of numpy, it will be understood as (type, (1,)) / '(1,)type'.\n",
      "  _np_quint16 = np.dtype([(\"quint16\", np.uint16, 1)])\n",
      "C:\\Users\\tcast\\anaconda3\\envs\\learn-env\\lib\\site-packages\\tensorflow\\python\\framework\\dtypes.py:521: FutureWarning: Passing (type, 1) or '1type' as a synonym of type is deprecated; in a future version of numpy, it will be understood as (type, (1,)) / '(1,)type'.\n",
      "  _np_qint32 = np.dtype([(\"qint32\", np.int32, 1)])\n",
      "C:\\Users\\tcast\\anaconda3\\envs\\learn-env\\lib\\site-packages\\tensorflow\\python\\framework\\dtypes.py:526: FutureWarning: Passing (type, 1) or '1type' as a synonym of type is deprecated; in a future version of numpy, it will be understood as (type, (1,)) / '(1,)type'.\n",
      "  np_resource = np.dtype([(\"resource\", np.ubyte, 1)])\n"
     ]
    }
   ],
   "source": [
    "import time\n",
    "import matplotlib.pyplot as plt\n",
    "import scipy\n",
    "import numpy as np\n",
    "from PIL import Image\n",
    "from scipy import ndimage\n",
    "from keras.preprocessing.image import ImageDataGenerator, array_to_img, img_to_array, load_img\n",
    "\n",
    "np.random.seed(123)"
   ]
  },
  {
   "cell_type": "code",
   "execution_count": 33,
   "metadata": {
    "ExecuteTime": {
     "end_time": "2020-09-15T00:04:11.005279Z",
     "start_time": "2020-09-15T00:04:10.678023Z"
    }
   },
   "outputs": [
    {
     "name": "stdout",
     "output_type": "stream",
     "text": [
      "Found 324 images belonging to 2 classes.\n",
      "Found 360 images belonging to 2 classes.\n",
      "Found 764 images belonging to 2 classes.\n"
     ]
    }
   ],
   "source": [
    "# get all the data in the directory split/test (180 images), and reshape them\n",
    "test_generator = ImageDataGenerator(rescale=1./255).flow_from_directory(\n",
    "        test_folder, \n",
    "        target_size=(64, 64), batch_size = 180) \n",
    "\n",
    "# get all the data in the directory split/validation (200 images), and reshape them\n",
    "val_generator = ImageDataGenerator(rescale=1./255).flow_from_directory(\n",
    "        val_folder, \n",
    "        target_size=(64, 64), batch_size = 200)\n",
    "\n",
    "# get all the data in the directory split/train (542 images), and reshape them\n",
    "train_generator = ImageDataGenerator(rescale=1./255).flow_from_directory(\n",
    "        train_folder, \n",
    "        target_size=(64, 64), batch_size=542)"
   ]
  },
  {
   "cell_type": "code",
   "execution_count": 34,
   "metadata": {
    "ExecuteTime": {
     "end_time": "2020-09-15T00:06:05.712711Z",
     "start_time": "2020-09-15T00:05:56.367521Z"
    }
   },
   "outputs": [],
   "source": [
    "# create the data sets\n",
    "train_images, train_labels = next(train_generator)\n",
    "test_images, test_labels = next(test_generator)\n",
    "val_images, val_labels = next(val_generator)"
   ]
  },
  {
   "cell_type": "code",
   "execution_count": 35,
   "metadata": {
    "ExecuteTime": {
     "end_time": "2020-09-15T00:06:39.293229Z",
     "start_time": "2020-09-15T00:06:39.287244Z"
    }
   },
   "outputs": [
    {
     "name": "stdout",
     "output_type": "stream",
     "text": [
      "Number of training samples: 542\n",
      "Number of testing samples: 180\n",
      "Number of validation samples: 200\n",
      "train_images shape: (542, 64, 64, 3)\n",
      "train_labels shape: (542, 2)\n",
      "test_images shape: (180, 64, 64, 3)\n",
      "test_labels shape: (180, 2)\n",
      "val_images shape: (200, 64, 64, 3)\n",
      "val_labels shape: (200, 2)\n"
     ]
    }
   ],
   "source": [
    "# Explore your dataset again\n",
    "m_train = train_images.shape[0]\n",
    "num_px = train_images.shape[1]\n",
    "m_test = test_images.shape[0]\n",
    "m_val = val_images.shape[0]\n",
    "\n",
    "print (\"Number of training samples: \" + str(m_train))\n",
    "print (\"Number of testing samples: \" + str(m_test))\n",
    "print (\"Number of validation samples: \" + str(m_val))\n",
    "print (\"train_images shape: \" + str(train_images.shape))\n",
    "print (\"train_labels shape: \" + str(train_labels.shape))\n",
    "print (\"test_images shape: \" + str(test_images.shape))\n",
    "print (\"test_labels shape: \" + str(test_labels.shape))\n",
    "print (\"val_images shape: \" + str(val_images.shape))\n",
    "print (\"val_labels shape: \" + str(val_labels.shape))"
   ]
  },
  {
   "cell_type": "code",
   "execution_count": 36,
   "metadata": {
    "ExecuteTime": {
     "end_time": "2020-09-15T00:09:46.199586Z",
     "start_time": "2020-09-15T00:09:46.195542Z"
    }
   },
   "outputs": [
    {
     "name": "stdout",
     "output_type": "stream",
     "text": [
      "(542, 12288)\n",
      "(180, 12288)\n",
      "(200, 12288)\n"
     ]
    }
   ],
   "source": [
    "train_img = train_images.reshape(train_images.shape[0], -1)\n",
    "test_img = test_images.reshape(test_images.shape[0], -1)\n",
    "val_img = val_images.reshape(val_images.shape[0], -1)\n",
    "\n",
    "print(train_img.shape)\n",
    "print(test_img.shape)\n",
    "print(val_img.shape)"
   ]
  },
  {
   "cell_type": "code",
   "execution_count": 37,
   "metadata": {
    "ExecuteTime": {
     "end_time": "2020-09-15T00:11:40.938031Z",
     "start_time": "2020-09-15T00:11:40.935047Z"
    }
   },
   "outputs": [],
   "source": [
    "train_y = np.reshape(train_labels[:,0], (542,1))\n",
    "test_y = np.reshape(test_labels[:,0], (180,1))\n",
    "val_y = np.reshape(val_labels[:,0], (200,1))"
   ]
  },
  {
   "cell_type": "code",
   "execution_count": 38,
   "metadata": {
    "ExecuteTime": {
     "end_time": "2020-09-15T00:11:41.373273Z",
     "start_time": "2020-09-15T00:11:41.334060Z"
    }
   },
   "outputs": [],
   "source": [
    "# Build a baseline fully connected model\n",
    "from keras import models\n",
    "from keras import layers\n",
    "np.random.seed(123)\n",
    "model = models.Sequential()\n",
    "model.add(layers.Dense(20, activation='relu', input_shape=(12288,))) # 2 hidden layers\n",
    "model.add(layers.Dense(7, activation='relu'))\n",
    "model.add(layers.Dense(5, activation='relu'))\n",
    "model.add(layers.Dense(1, activation='sigmoid'))"
   ]
  },
  {
   "cell_type": "code",
   "execution_count": 39,
   "metadata": {
    "ExecuteTime": {
     "end_time": "2020-09-15T00:12:05.581988Z",
     "start_time": "2020-09-15T00:12:01.449261Z"
    },
    "scrolled": true
   },
   "outputs": [
    {
     "name": "stdout",
     "output_type": "stream",
     "text": [
      "Train on 542 samples, validate on 200 samples\n",
      "Epoch 1/50\n",
      "542/542 [==============================] - 0s 336us/step - loss: 0.7082 - acc: 0.4945 - val_loss: 0.6663 - val_acc: 0.4900\n",
      "Epoch 2/50\n",
      "542/542 [==============================] - 0s 135us/step - loss: 0.6748 - acc: 0.5129 - val_loss: 0.6668 - val_acc: 0.6550\n",
      "Epoch 3/50\n",
      "542/542 [==============================] - 0s 136us/step - loss: 0.6602 - acc: 0.5609 - val_loss: 0.6361 - val_acc: 0.5150\n",
      "Epoch 4/50\n",
      "542/542 [==============================] - 0s 138us/step - loss: 0.6483 - acc: 0.6107 - val_loss: 0.6192 - val_acc: 0.6350\n",
      "Epoch 5/50\n",
      "542/542 [==============================] - 0s 132us/step - loss: 0.6302 - acc: 0.6365 - val_loss: 0.6005 - val_acc: 0.6850\n",
      "Epoch 6/50\n",
      "542/542 [==============================] - 0s 140us/step - loss: 0.6173 - acc: 0.6679 - val_loss: 0.5812 - val_acc: 0.7400\n",
      "Epoch 7/50\n",
      "542/542 [==============================] - 0s 136us/step - loss: 0.5896 - acc: 0.6974 - val_loss: 0.5933 - val_acc: 0.5350\n",
      "Epoch 8/50\n",
      "542/542 [==============================] - 0s 139us/step - loss: 0.5782 - acc: 0.6900 - val_loss: 0.6584 - val_acc: 0.6400\n",
      "Epoch 9/50\n",
      "542/542 [==============================] - 0s 144us/step - loss: 0.5936 - acc: 0.6679 - val_loss: 0.5334 - val_acc: 0.7550\n",
      "Epoch 10/50\n",
      "542/542 [==============================] - 0s 136us/step - loss: 0.5225 - acc: 0.7823 - val_loss: 0.5259 - val_acc: 0.7800\n",
      "Epoch 11/50\n",
      "542/542 [==============================] - 0s 140us/step - loss: 0.5159 - acc: 0.7454 - val_loss: 0.5421 - val_acc: 0.7400\n",
      "Epoch 12/50\n",
      "542/542 [==============================] - 0s 140us/step - loss: 0.5349 - acc: 0.7472 - val_loss: 0.4990 - val_acc: 0.8350\n",
      "Epoch 13/50\n",
      "542/542 [==============================] - 0s 141us/step - loss: 0.5235 - acc: 0.7657 - val_loss: 0.4841 - val_acc: 0.8450\n",
      "Epoch 14/50\n",
      "542/542 [==============================] - 0s 147us/step - loss: 0.4920 - acc: 0.7897 - val_loss: 0.4755 - val_acc: 0.7550\n",
      "Epoch 15/50\n",
      "542/542 [==============================] - 0s 136us/step - loss: 0.4724 - acc: 0.7768 - val_loss: 0.5161 - val_acc: 0.6650\n",
      "Epoch 16/50\n",
      "542/542 [==============================] - 0s 142us/step - loss: 0.4579 - acc: 0.7823 - val_loss: 0.4512 - val_acc: 0.7650\n",
      "Epoch 17/50\n",
      "542/542 [==============================] - 0s 132us/step - loss: 0.4578 - acc: 0.7823 - val_loss: 0.4696 - val_acc: 0.7300\n",
      "Epoch 18/50\n",
      "542/542 [==============================] - 0s 142us/step - loss: 0.4009 - acc: 0.8173 - val_loss: 0.6021 - val_acc: 0.6300\n",
      "Epoch 19/50\n",
      "542/542 [==============================] - 0s 140us/step - loss: 0.4210 - acc: 0.8155 - val_loss: 0.9619 - val_acc: 0.5250\n",
      "Epoch 20/50\n",
      "542/542 [==============================] - 0s 139us/step - loss: 0.4825 - acc: 0.7915 - val_loss: 0.5646 - val_acc: 0.6700\n",
      "Epoch 21/50\n",
      "542/542 [==============================] - 0s 138us/step - loss: 0.4278 - acc: 0.8100 - val_loss: 0.3942 - val_acc: 0.8450\n",
      "Epoch 22/50\n",
      "542/542 [==============================] - 0s 145us/step - loss: 0.4127 - acc: 0.8063 - val_loss: 0.5282 - val_acc: 0.7350\n",
      "Epoch 23/50\n",
      "542/542 [==============================] - 0s 149us/step - loss: 0.3495 - acc: 0.8413 - val_loss: 0.3847 - val_acc: 0.8350\n",
      "Epoch 24/50\n",
      "542/542 [==============================] - 0s 136us/step - loss: 0.4178 - acc: 0.8210 - val_loss: 0.4172 - val_acc: 0.8200\n",
      "Epoch 25/50\n",
      "542/542 [==============================] - 0s 144us/step - loss: 0.3597 - acc: 0.8432 - val_loss: 0.3554 - val_acc: 0.8600\n",
      "Epoch 26/50\n",
      "542/542 [==============================] - 0s 151us/step - loss: 0.3443 - acc: 0.8561 - val_loss: 0.4832 - val_acc: 0.7600\n",
      "Epoch 27/50\n",
      "542/542 [==============================] - 0s 146us/step - loss: 0.3276 - acc: 0.8764 - val_loss: 0.3498 - val_acc: 0.8700\n",
      "Epoch 28/50\n",
      "542/542 [==============================] - 0s 143us/step - loss: 0.3395 - acc: 0.8524 - val_loss: 0.5049 - val_acc: 0.7800\n",
      "Epoch 29/50\n",
      "542/542 [==============================] - 0s 136us/step - loss: 0.3874 - acc: 0.8266 - val_loss: 0.4050 - val_acc: 0.7900\n",
      "Epoch 30/50\n",
      "542/542 [==============================] - 0s 138us/step - loss: 0.2870 - acc: 0.8838 - val_loss: 0.5409 - val_acc: 0.6850\n",
      "Epoch 31/50\n",
      "542/542 [==============================] - 0s 145us/step - loss: 0.2678 - acc: 0.9004 - val_loss: 0.4408 - val_acc: 0.7800\n",
      "Epoch 32/50\n",
      "542/542 [==============================] - 0s 138us/step - loss: 0.2866 - acc: 0.8838 - val_loss: 0.5809 - val_acc: 0.6900\n",
      "Epoch 33/50\n",
      "542/542 [==============================] - 0s 134us/step - loss: 0.3300 - acc: 0.8764 - val_loss: 0.3168 - val_acc: 0.8700\n",
      "Epoch 34/50\n",
      "542/542 [==============================] - 0s 131us/step - loss: 0.2582 - acc: 0.8967 - val_loss: 0.3485 - val_acc: 0.8400\n",
      "Epoch 35/50\n",
      "542/542 [==============================] - 0s 138us/step - loss: 0.2477 - acc: 0.8967 - val_loss: 0.3178 - val_acc: 0.8550\n",
      "Epoch 36/50\n",
      "542/542 [==============================] - 0s 136us/step - loss: 0.3716 - acc: 0.8764 - val_loss: 0.3409 - val_acc: 0.8650\n",
      "Epoch 37/50\n",
      "542/542 [==============================] - 0s 131us/step - loss: 0.2634 - acc: 0.8985 - val_loss: 0.4282 - val_acc: 0.7800\n",
      "Epoch 38/50\n",
      "542/542 [==============================] - 0s 134us/step - loss: 0.2765 - acc: 0.8856 - val_loss: 0.2734 - val_acc: 0.9100\n",
      "Epoch 39/50\n",
      "542/542 [==============================] - 0s 162us/step - loss: 0.2852 - acc: 0.8782 - val_loss: 0.3130 - val_acc: 0.8650\n",
      "Epoch 40/50\n",
      "542/542 [==============================] - 0s 158us/step - loss: 0.2258 - acc: 0.9077 - val_loss: 0.3314 - val_acc: 0.8550\n",
      "Epoch 41/50\n",
      "542/542 [==============================] - 0s 156us/step - loss: 0.1736 - acc: 0.9465 - val_loss: 0.2848 - val_acc: 0.8950\n",
      "Epoch 42/50\n",
      "542/542 [==============================] - 0s 151us/step - loss: 0.2881 - acc: 0.9170 - val_loss: 0.3073 - val_acc: 0.8750\n",
      "Epoch 43/50\n",
      "542/542 [==============================] - 0s 143us/step - loss: 0.2149 - acc: 0.9188 - val_loss: 0.6664 - val_acc: 0.7400\n",
      "Epoch 44/50\n",
      "542/542 [==============================] - 0s 156us/step - loss: 0.2189 - acc: 0.9280 - val_loss: 0.5045 - val_acc: 0.7700\n",
      "Epoch 45/50\n",
      "542/542 [==============================] - 0s 145us/step - loss: 0.1731 - acc: 0.9317 - val_loss: 0.3009 - val_acc: 0.8700\n",
      "Epoch 46/50\n",
      "542/542 [==============================] - 0s 148us/step - loss: 0.2388 - acc: 0.8819 - val_loss: 0.3164 - val_acc: 0.8650\n",
      "Epoch 47/50\n",
      "542/542 [==============================] - 0s 141us/step - loss: 0.1640 - acc: 0.9428 - val_loss: 0.2677 - val_acc: 0.8950\n",
      "Epoch 48/50\n",
      "542/542 [==============================] - 0s 153us/step - loss: 0.1464 - acc: 0.9576 - val_loss: 0.2482 - val_acc: 0.9050\n",
      "Epoch 49/50\n",
      "542/542 [==============================] - 0s 150us/step - loss: 0.1821 - acc: 0.9244 - val_loss: 0.2993 - val_acc: 0.8850\n",
      "Epoch 50/50\n",
      "542/542 [==============================] - 0s 148us/step - loss: 0.2262 - acc: 0.9170 - val_loss: 0.2945 - val_acc: 0.8650\n"
     ]
    }
   ],
   "source": [
    "model.compile(optimizer='sgd',\n",
    "              loss='binary_crossentropy',\n",
    "              metrics=['accuracy'])\n",
    "\n",
    "histoire = model.fit(train_img,\n",
    "                    train_y,\n",
    "                    epochs=50,\n",
    "                    batch_size=32,\n",
    "                    validation_data=(val_img, val_y))"
   ]
  },
  {
   "cell_type": "code",
   "execution_count": 40,
   "metadata": {
    "ExecuteTime": {
     "end_time": "2020-09-15T00:12:20.244866Z",
     "start_time": "2020-09-15T00:12:20.197964Z"
    }
   },
   "outputs": [
    {
     "name": "stdout",
     "output_type": "stream",
     "text": [
      "542/542 [==============================] - 0s 77us/step\n"
     ]
    }
   ],
   "source": [
    "results_train = model.evaluate(train_img, train_y)"
   ]
  },
  {
   "cell_type": "code",
   "execution_count": 41,
   "metadata": {
    "ExecuteTime": {
     "end_time": "2020-09-15T00:12:20.784689Z",
     "start_time": "2020-09-15T00:12:20.766729Z"
    }
   },
   "outputs": [
    {
     "name": "stdout",
     "output_type": "stream",
     "text": [
      "180/180 [==============================] - 0s 78us/step\n"
     ]
    }
   ],
   "source": [
    "results_test = model.evaluate(test_img, test_y)"
   ]
  },
  {
   "cell_type": "code",
   "execution_count": 42,
   "metadata": {
    "ExecuteTime": {
     "end_time": "2020-09-15T00:12:21.711408Z",
     "start_time": "2020-09-15T00:12:21.706383Z"
    }
   },
   "outputs": [
    {
     "data": {
      "text/plain": [
       "[0.13019864714783497, 0.9594095925563376]"
      ]
     },
     "execution_count": 42,
     "metadata": {},
     "output_type": "execute_result"
    }
   ],
   "source": [
    "results_train"
   ]
  },
  {
   "cell_type": "code",
   "execution_count": 43,
   "metadata": {
    "ExecuteTime": {
     "end_time": "2020-09-15T00:12:22.173329Z",
     "start_time": "2020-09-15T00:12:22.169341Z"
    }
   },
   "outputs": [
    {
     "data": {
      "text/plain": [
       "[0.31645469301276735, 0.8777777764532301]"
      ]
     },
     "execution_count": 43,
     "metadata": {},
     "output_type": "execute_result"
    }
   ],
   "source": [
    "results_test"
   ]
  },
  {
   "cell_type": "markdown",
   "metadata": {},
   "source": [
    "Remember that, in our previous lab on building deeper neural networks from scratch, we obtained a training accuracy of 95%, and a test set accuracy of 74.23%. \n",
    "\n",
    "This result is similar to what we got building our manual \"deeper\" dense model. The results are not entirely different. This is not a surprise!\n",
    "- Before, we only had a training and a validation set (which was at the same time the test set). Now we have split up the data 3-ways.\n",
    "- We didn't use minibatches before, yet we used mini-batches of 32 units here.\n",
    " \n",
    "## Build a CNN"
   ]
  },
  {
   "cell_type": "code",
   "execution_count": 45,
   "metadata": {
    "ExecuteTime": {
     "end_time": "2020-09-15T00:17:08.637337Z",
     "start_time": "2020-09-15T00:17:08.562170Z"
    }
   },
   "outputs": [],
   "source": [
    "model = models.Sequential()\n",
    "model.add(layers.Conv2D(32, (3, 3), activation='relu',\n",
    "                        input_shape=(64 ,64,  3)))\n",
    "model.add(layers.MaxPooling2D((2, 2)))\n",
    "\n",
    "model.add(layers.Conv2D(32, (4, 4), activation='relu'))\n",
    "model.add(layers.MaxPooling2D((2, 2)))\n",
    "\n",
    "model.add(layers.Conv2D(64, (3, 3), activation='relu'))\n",
    "model.add(layers.MaxPooling2D((2, 2)))\n",
    "\n",
    "model.add(layers.Flatten())\n",
    "model.add(layers.Dense(64, activation='relu'))\n",
    "model.add(layers.Dense(1, activation='sigmoid'))\n",
    "\n",
    "model.compile(loss='binary_crossentropy',\n",
    "              optimizer=\"sgd\",\n",
    "              metrics=['acc'])"
   ]
  },
  {
   "cell_type": "code",
   "execution_count": 46,
   "metadata": {
    "ExecuteTime": {
     "end_time": "2020-09-15T00:25:57.869324Z",
     "start_time": "2020-09-15T00:25:06.563038Z"
    }
   },
   "outputs": [
    {
     "name": "stdout",
     "output_type": "stream",
     "text": [
      "Train on 542 samples, validate on 200 samples\n",
      "Epoch 1/30\n",
      "542/542 [==============================] - 2s 3ms/step - loss: 0.6866 - acc: 0.4797 - val_loss: 0.6711 - val_acc: 0.5150\n",
      "Epoch 2/30\n",
      "542/542 [==============================] - 2s 3ms/step - loss: 0.6765 - acc: 0.4852 - val_loss: 0.6649 - val_acc: 0.5150\n",
      "Epoch 3/30\n",
      "542/542 [==============================] - 2s 3ms/step - loss: 0.6694 - acc: 0.4889 - val_loss: 0.6532 - val_acc: 0.5200\n",
      "Epoch 4/30\n",
      "542/542 [==============================] - 2s 3ms/step - loss: 0.6599 - acc: 0.5277 - val_loss: 0.6402 - val_acc: 0.5200\n",
      "Epoch 5/30\n",
      "542/542 [==============================] - 2s 3ms/step - loss: 0.6499 - acc: 0.5332 - val_loss: 0.6351 - val_acc: 0.7400\n",
      "Epoch 6/30\n",
      "542/542 [==============================] - 2s 4ms/step - loss: 0.6372 - acc: 0.6439 - val_loss: 0.6162 - val_acc: 0.7650\n",
      "Epoch 7/30\n",
      "542/542 [==============================] - 2s 4ms/step - loss: 0.6202 - acc: 0.7030 - val_loss: 0.6145 - val_acc: 0.8800\n",
      "Epoch 8/30\n",
      "542/542 [==============================] - 2s 3ms/step - loss: 0.6063 - acc: 0.7472 - val_loss: 0.5662 - val_acc: 0.6750\n",
      "Epoch 9/30\n",
      "542/542 [==============================] - 2s 3ms/step - loss: 0.5846 - acc: 0.7657 - val_loss: 0.5335 - val_acc: 0.7500\n",
      "Epoch 10/30\n",
      "542/542 [==============================] - 2s 3ms/step - loss: 0.5492 - acc: 0.7804 - val_loss: 0.5035 - val_acc: 0.7200\n",
      "Epoch 11/30\n",
      "542/542 [==============================] - 2s 3ms/step - loss: 0.5316 - acc: 0.7731 - val_loss: 0.5353 - val_acc: 0.7950\n",
      "Epoch 12/30\n",
      "542/542 [==============================] - 2s 3ms/step - loss: 0.5172 - acc: 0.7749 - val_loss: 0.4191 - val_acc: 0.9150\n",
      "Epoch 13/30\n",
      "542/542 [==============================] - 2s 3ms/step - loss: 0.5238 - acc: 0.7546 - val_loss: 0.6365 - val_acc: 0.5850\n",
      "Epoch 14/30\n",
      "542/542 [==============================] - 2s 3ms/step - loss: 0.4490 - acc: 0.8192 - val_loss: 0.3655 - val_acc: 0.9300\n",
      "Epoch 15/30\n",
      "542/542 [==============================] - 2s 3ms/step - loss: 0.4748 - acc: 0.8155 - val_loss: 0.3405 - val_acc: 0.9450\n",
      "Epoch 16/30\n",
      "542/542 [==============================] - 2s 3ms/step - loss: 0.4537 - acc: 0.7970 - val_loss: 0.3552 - val_acc: 0.8750\n",
      "Epoch 17/30\n",
      "542/542 [==============================] - 2s 3ms/step - loss: 0.4416 - acc: 0.8044 - val_loss: 0.3783 - val_acc: 0.8600\n",
      "Epoch 18/30\n",
      "542/542 [==============================] - 2s 3ms/step - loss: 0.4028 - acc: 0.8395 - val_loss: 0.4709 - val_acc: 0.6850\n",
      "Epoch 19/30\n",
      "542/542 [==============================] - 2s 3ms/step - loss: 0.4044 - acc: 0.8247 - val_loss: 0.7430 - val_acc: 0.5700\n",
      "Epoch 20/30\n",
      "542/542 [==============================] - 2s 3ms/step - loss: 0.3808 - acc: 0.8303 - val_loss: 0.2572 - val_acc: 0.9400\n",
      "Epoch 21/30\n",
      "542/542 [==============================] - 2s 3ms/step - loss: 0.3510 - acc: 0.8598 - val_loss: 0.2671 - val_acc: 0.9300\n",
      "Epoch 22/30\n",
      "542/542 [==============================] - 2s 3ms/step - loss: 0.3485 - acc: 0.8690 - val_loss: 0.4538 - val_acc: 0.7400\n",
      "Epoch 23/30\n",
      "542/542 [==============================] - 2s 3ms/step - loss: 0.3666 - acc: 0.8413 - val_loss: 0.2326 - val_acc: 0.9450\n",
      "Epoch 24/30\n",
      "542/542 [==============================] - 2s 3ms/step - loss: 0.3415 - acc: 0.8579 - val_loss: 0.2097 - val_acc: 0.9550\n",
      "Epoch 25/30\n",
      "542/542 [==============================] - 2s 3ms/step - loss: 0.3054 - acc: 0.8782 - val_loss: 0.2203 - val_acc: 0.9400\n",
      "Epoch 26/30\n",
      "542/542 [==============================] - 2s 3ms/step - loss: 0.3588 - acc: 0.8561 - val_loss: 0.2219 - val_acc: 0.9650\n",
      "Epoch 27/30\n",
      "542/542 [==============================] - 2s 3ms/step - loss: 0.2793 - acc: 0.9004 - val_loss: 0.2039 - val_acc: 0.9550\n",
      "Epoch 28/30\n",
      "542/542 [==============================] - 2s 3ms/step - loss: 0.2959 - acc: 0.8948 - val_loss: 0.2477 - val_acc: 0.9150\n",
      "Epoch 29/30\n",
      "542/542 [==============================] - 2s 3ms/step - loss: 0.3231 - acc: 0.8653 - val_loss: 0.2401 - val_acc: 0.9200\n",
      "Epoch 30/30\n",
      "542/542 [==============================] - 2s 3ms/step - loss: 0.2715 - acc: 0.8838 - val_loss: 0.2049 - val_acc: 0.9500\n"
     ]
    }
   ],
   "source": [
    "history = model.fit(train_images,\n",
    "                    train_y,\n",
    "                    epochs=30,\n",
    "                    batch_size=32,\n",
    "                    validation_data=(val_images, val_y))"
   ]
  },
  {
   "cell_type": "code",
   "execution_count": 47,
   "metadata": {
    "ExecuteTime": {
     "end_time": "2020-09-15T00:26:04.674056Z",
     "start_time": "2020-09-15T00:26:04.117544Z"
    }
   },
   "outputs": [
    {
     "name": "stdout",
     "output_type": "stream",
     "text": [
      "542/542 [==============================] - 1s 1ms/step\n"
     ]
    }
   ],
   "source": [
    "results_train = model.evaluate(train_images, train_y)"
   ]
  },
  {
   "cell_type": "code",
   "execution_count": 48,
   "metadata": {
    "ExecuteTime": {
     "end_time": "2020-09-15T00:26:04.908430Z",
     "start_time": "2020-09-15T00:26:04.710958Z"
    }
   },
   "outputs": [
    {
     "name": "stdout",
     "output_type": "stream",
     "text": [
      "180/180 [==============================] - 0s 1ms/step\n"
     ]
    }
   ],
   "source": [
    "results_test = model.evaluate(test_images, test_y)"
   ]
  },
  {
   "cell_type": "code",
   "execution_count": 49,
   "metadata": {
    "ExecuteTime": {
     "end_time": "2020-09-15T00:26:04.948323Z",
     "start_time": "2020-09-15T00:26:04.944334Z"
    }
   },
   "outputs": [
    {
     "data": {
      "text/plain": [
       "[0.2794310061804043, 0.9077490759511715]"
      ]
     },
     "execution_count": 49,
     "metadata": {},
     "output_type": "execute_result"
    }
   ],
   "source": [
    "results_train"
   ]
  },
  {
   "cell_type": "code",
   "execution_count": 50,
   "metadata": {
    "ExecuteTime": {
     "end_time": "2020-09-15T00:26:05.007157Z",
     "start_time": "2020-09-15T00:26:05.002169Z"
    }
   },
   "outputs": [
    {
     "data": {
      "text/plain": [
       "[0.2901491628752814, 0.9000000013245477]"
      ]
     },
     "execution_count": 50,
     "metadata": {},
     "output_type": "execute_result"
    }
   ],
   "source": [
    "results_test"
   ]
  },
  {
   "cell_type": "markdown",
   "metadata": {},
   "source": [
    "## Data Augmentation"
   ]
  },
  {
   "cell_type": "markdown",
   "metadata": {},
   "source": [
    "`ImageDataGenerator()` becomes really useful when we *actually* want to generate more data. We'll show you how this works. "
   ]
  },
  {
   "cell_type": "code",
   "execution_count": 51,
   "metadata": {
    "ExecuteTime": {
     "end_time": "2020-09-15T00:26:45.518654Z",
     "start_time": "2020-09-15T00:26:45.514665Z"
    }
   },
   "outputs": [],
   "source": [
    "train_datagen = ImageDataGenerator(rescale=1./255, \n",
    "                                   rotation_range=40, \n",
    "                                   width_shift_range=0.2, \n",
    "                                   height_shift_range=0.2, \n",
    "                                   shear_range=0.3, \n",
    "                                   zoom_range=0.1, \n",
    "                                   horizontal_flip=False)"
   ]
  },
  {
   "cell_type": "code",
   "execution_count": 52,
   "metadata": {
    "ExecuteTime": {
     "end_time": "2020-09-15T00:27:36.643709Z",
     "start_time": "2020-09-15T00:27:36.281861Z"
    }
   },
   "outputs": [
    {
     "data": {
      "image/png": "[encoded data removed]",
      "text/plain": [
       "<Figure size 432x288 with 1 Axes>"
      ]
     },
     "metadata": {
      "needs_background": "light"
     },
     "output_type": "display_data"
    },
    {
     "data": {
      "image/png": "[encoded data removed]",
      "text/plain": [
       "<Figure size 432x288 with 1 Axes>"
      ]
     },
     "metadata": {
      "needs_background": "light"
     },
     "output_type": "display_data"
    },
    {
     "data": {
      "image/png": "[encoded data removed]",
      "text/plain": [
       "<Figure size 432x288 with 1 Axes>"
      ]
     },
     "metadata": {
      "needs_background": "light"
     },
     "output_type": "display_data"
    }
   ],
   "source": [
    "names = [os.path.join(train_santa, name) for name in os.listdir(train_santa)]\n",
    "img_path = names[91]\n",
    "img = load_img(img_path, target_size=(64, 64))\n",
    "\n",
    "reshape_img = img_to_array(img) \n",
    "reshape_img = reshape_img.reshape((1,) + reshape_img.shape) \n",
    "i=0\n",
    "for batch in train_datagen.flow(reshape_img, batch_size=1):\n",
    "    plt.figure(i)\n",
    "    imgplot = plt.imshow(array_to_img(batch[0]))\n",
    "    i += 1\n",
    "    if i % 3 == 0:\n",
    "        break\n",
    "plt.show()"
   ]
  },
  {
   "cell_type": "code",
   "execution_count": 53,
   "metadata": {
    "ExecuteTime": {
     "end_time": "2020-09-15T00:29:12.267809Z",
     "start_time": "2020-09-15T00:29:11.938879Z"
    }
   },
   "outputs": [
    {
     "name": "stdout",
     "output_type": "stream",
     "text": [
      "Found 324 images belonging to 2 classes.\n",
      "Found 360 images belonging to 2 classes.\n",
      "Found 764 images belonging to 2 classes.\n"
     ]
    }
   ],
   "source": [
    "# get all the data in the directory split/test (180 images), and reshape them\n",
    "test_generator = ImageDataGenerator(rescale=1./255).flow_from_directory(\n",
    "        test_folder, \n",
    "        target_size=(64, 64), \n",
    "        batch_size = 180,\n",
    "        class_mode='binary') \n",
    "\n",
    "# get all the data in the directory split/validation (200 images), and reshape them\n",
    "val_generator = ImageDataGenerator(rescale=1./255).flow_from_directory(\n",
    "        val_folder, \n",
    "        target_size=(64, 64),\n",
    "        batch_size = 32,\n",
    "        class_mode='binary')\n",
    "\n",
    "# get all the data in the directory split/train (542 images), and reshape them\n",
    "train_generator = train_datagen.flow_from_directory(\n",
    "        train_folder, \n",
    "        target_size=(64, 64), \n",
    "        batch_size = 32, \n",
    "        class_mode='binary')"
   ]
  },
  {
   "cell_type": "code",
   "execution_count": 54,
   "metadata": {
    "ExecuteTime": {
     "end_time": "2020-09-15T00:29:37.593712Z",
     "start_time": "2020-09-15T00:29:37.523293Z"
    }
   },
   "outputs": [],
   "source": [
    "model = models.Sequential()\n",
    "model.add(layers.Conv2D(32, (3, 3), activation='relu',\n",
    "                        input_shape=(64 ,64,  3)))\n",
    "model.add(layers.MaxPooling2D((2, 2)))\n",
    "\n",
    "model.add(layers.Conv2D(32, (4, 4), activation='relu'))\n",
    "model.add(layers.MaxPooling2D((2, 2)))\n",
    "\n",
    "model.add(layers.Conv2D(64, (3, 3), activation='relu'))\n",
    "model.add(layers.MaxPooling2D((2, 2)))\n",
    "\n",
    "model.add(layers.Flatten())\n",
    "model.add(layers.Dense(64, activation='relu'))\n",
    "model.add(layers.Dense(1, activation='sigmoid'))\n",
    "\n",
    "model.compile(loss='binary_crossentropy',\n",
    "              optimizer= 'sgd',\n",
    "              metrics=['acc'])"
   ]
  },
  {
   "cell_type": "code",
   "execution_count": 55,
   "metadata": {
    "ExecuteTime": {
     "end_time": "2020-09-15T00:34:20.192336Z",
     "start_time": "2020-09-15T00:29:40.590543Z"
    }
   },
   "outputs": [
    {
     "name": "stdout",
     "output_type": "stream",
     "text": [
      "Epoch 1/30\n",
      "25/25 [==============================] - 10s 389ms/step - loss: 0.6838 - acc: 0.5061 - val_loss: 0.6745 - val_acc: 0.5056\n",
      "Epoch 2/30\n",
      "25/25 [==============================] - 10s 386ms/step - loss: 0.6792 - acc: 0.4971 - val_loss: 0.6691 - val_acc: 0.5056\n",
      "Epoch 3/30\n",
      "25/25 [==============================] - 9s 346ms/step - loss: 0.6743 - acc: 0.4953 - val_loss: 0.6610 - val_acc: 0.5056\n",
      "Epoch 4/30\n",
      "25/25 [==============================] - 9s 361ms/step - loss: 0.6664 - acc: 0.4987 - val_loss: 0.6526 - val_acc: 0.5139\n",
      "Epoch 5/30\n",
      "25/25 [==============================] - 11s 421ms/step - loss: 0.6576 - acc: 0.5175 - val_loss: 0.6406 - val_acc: 0.5194\n",
      "Epoch 6/30\n",
      "25/25 [==============================] - 9s 350ms/step - loss: 0.6496 - acc: 0.5250 - val_loss: 0.6280 - val_acc: 0.6028\n",
      "Epoch 7/30\n",
      "25/25 [==============================] - 9s 364ms/step - loss: 0.6352 - acc: 0.6249 - val_loss: 0.6068 - val_acc: 0.5583\n",
      "Epoch 8/30\n",
      "25/25 [==============================] - 9s 373ms/step - loss: 0.6094 - acc: 0.6230 - val_loss: 0.5890 - val_acc: 0.5417\n",
      "Epoch 9/30\n",
      "25/25 [==============================] - 9s 365ms/step - loss: 0.5969 - acc: 0.7538 - val_loss: 0.5502 - val_acc: 0.6722\n",
      "Epoch 10/30\n",
      "25/25 [==============================] - 10s 382ms/step - loss: 0.5578 - acc: 0.7649 - val_loss: 0.5098 - val_acc: 0.7667\n",
      "Epoch 11/30\n",
      "25/25 [==============================] - 10s 418ms/step - loss: 0.5193 - acc: 0.8337 - val_loss: 0.4720 - val_acc: 0.7667\n",
      "Epoch 12/30\n",
      "25/25 [==============================] - 8s 324ms/step - loss: 0.5205 - acc: 0.7746 - val_loss: 0.4150 - val_acc: 0.9139\n",
      "Epoch 13/30\n",
      "25/25 [==============================] - 10s 389ms/step - loss: 0.4815 - acc: 0.7969 - val_loss: 0.5307 - val_acc: 0.6361\n",
      "Epoch 14/30\n",
      "25/25 [==============================] - 9s 378ms/step - loss: 0.4414 - acc: 0.8305 - val_loss: 0.3895 - val_acc: 0.8222\n",
      "Epoch 15/30\n",
      "25/25 [==============================] - 8s 334ms/step - loss: 0.4207 - acc: 0.8337 - val_loss: 0.3089 - val_acc: 0.9111\n",
      "Epoch 16/30\n",
      "25/25 [==============================] - 10s 393ms/step - loss: 0.3624 - acc: 0.8618 - val_loss: 0.2897 - val_acc: 0.9083\n",
      "Epoch 17/30\n",
      "25/25 [==============================] - 9s 379ms/step - loss: 0.4108 - acc: 0.8113 - val_loss: 0.3439 - val_acc: 0.8750\n",
      "Epoch 18/30\n",
      "25/25 [==============================] - 9s 367ms/step - loss: 0.3589 - acc: 0.8516 - val_loss: 0.2864 - val_acc: 0.9167\n",
      "Epoch 19/30\n",
      "25/25 [==============================] - 9s 373ms/step - loss: 0.3276 - acc: 0.8782 - val_loss: 0.2412 - val_acc: 0.9306\n",
      "Epoch 20/30\n",
      "25/25 [==============================] - 9s 353ms/step - loss: 0.3614 - acc: 0.8530 - val_loss: 0.2777 - val_acc: 0.9139\n",
      "Epoch 21/30\n",
      "25/25 [==============================] - 9s 368ms/step - loss: 0.2946 - acc: 0.8930 - val_loss: 0.2242 - val_acc: 0.9333\n",
      "Epoch 22/30\n",
      "25/25 [==============================] - 10s 397ms/step - loss: 0.3008 - acc: 0.8882 - val_loss: 0.2580 - val_acc: 0.9167\n",
      "Epoch 23/30\n",
      "25/25 [==============================] - 9s 367ms/step - loss: 0.2668 - acc: 0.8945 - val_loss: 0.2115 - val_acc: 0.9333\n",
      "Epoch 24/30\n",
      "25/25 [==============================] - 9s 369ms/step - loss: 0.2650 - acc: 0.8921 - val_loss: 0.4786 - val_acc: 0.7750\n",
      "Epoch 25/30\n",
      "25/25 [==============================] - 9s 369ms/step - loss: 0.2767 - acc: 0.8946 - val_loss: 0.2400 - val_acc: 0.9056\n",
      "Epoch 26/30\n",
      "25/25 [==============================] - 10s 382ms/step - loss: 0.2680 - acc: 0.9105 - val_loss: 0.2454 - val_acc: 0.9194\n",
      "Epoch 27/30\n",
      "25/25 [==============================] - 10s 387ms/step - loss: 0.2607 - acc: 0.8934 - val_loss: 0.2843 - val_acc: 0.8750\n",
      "Epoch 28/30\n",
      "25/25 [==============================] - 9s 344ms/step - loss: 0.3018 - acc: 0.8744 - val_loss: 0.2795 - val_acc: 0.9028\n",
      "Epoch 29/30\n",
      "25/25 [==============================] - 10s 398ms/step - loss: 0.2489 - acc: 0.9088 - val_loss: 0.4012 - val_acc: 0.8111\n",
      "Epoch 30/30\n",
      "25/25 [==============================] - 9s 344ms/step - loss: 0.2414 - acc: 0.9096 - val_loss: 0.2680 - val_acc: 0.9056\n"
     ]
    }
   ],
   "source": [
    "history_2 = model.fit_generator(train_generator, \n",
    "                                steps_per_epoch=25, \n",
    "                                epochs=30, \n",
    "                                validation_data=val_generator, \n",
    "                                validation_steps=25)"
   ]
  },
  {
   "cell_type": "code",
   "execution_count": 56,
   "metadata": {
    "ExecuteTime": {
     "end_time": "2020-09-15T00:35:05.229439Z",
     "start_time": "2020-09-15T00:35:04.169649Z"
    }
   },
   "outputs": [],
   "source": [
    "test_x, test_y = next(test_generator)"
   ]
  },
  {
   "cell_type": "code",
   "execution_count": 57,
   "metadata": {
    "ExecuteTime": {
     "end_time": "2020-09-15T00:35:05.477727Z",
     "start_time": "2020-09-15T00:35:05.275269Z"
    }
   },
   "outputs": [
    {
     "name": "stdout",
     "output_type": "stream",
     "text": [
      "180/180 [==============================] - 0s 1ms/step\n"
     ]
    }
   ],
   "source": [
    "results_test = model.evaluate(test_x, test_y)"
   ]
  },
  {
   "cell_type": "code",
   "execution_count": 58,
   "metadata": {
    "ExecuteTime": {
     "end_time": "2020-09-15T00:35:05.526596Z",
     "start_time": "2020-09-15T00:35:05.522608Z"
    }
   },
   "outputs": [
    {
     "data": {
      "text/plain": [
       "[0.35064866873953077, 0.8888888875643413]"
      ]
     },
     "execution_count": 58,
     "metadata": {},
     "output_type": "execute_result"
    }
   ],
   "source": [
    "results_test"
   ]
  },
  {
   "cell_type": "markdown",
   "metadata": {},
   "source": [
    "## Summary  \n",
    "\n",
    "In this code along lab, we looked again at some of the preprocessing techniques needed in order to organize our data prior to building a model using Keras. Afterwards, we investigated new code in order to build a CNN for image recognition."
   ]
  }
 ],
 "metadata": {
  "kernelspec": {
   "display_name": "Python 3",
   "language": "python",
   "name": "python3"
  },
  "language_info": {
   "codemirror_mode": {
    "name": "ipython",
    "version": 3
   },
   "file_extension": ".py",
   "mimetype": "text/x-python",
   "name": "python",
   "nbconvert_exporter": "python",
   "pygments_lexer": "ipython3",
   "version": "3.6.6"
  },
  "toc": {
   "base_numbering": 1,
   "nav_menu": {},
   "number_sections": true,
   "sideBar": true,
   "skip_h1_title": false,
   "title_cell": "Table of Contents",
   "title_sidebar": "Contents",
   "toc_cell": false,
   "toc_position": {},
   "toc_section_display": true,
   "toc_window_display": false
  },
  "varInspector": {
   "cols": {
    "lenName": 16,
    "lenType": 16,
    "lenVar": 40
   },
   "kernels_config": {
    "python": {
     "delete_cmd_postfix": "",
     "delete_cmd_prefix": "del ",
     "library": "var_list.py",
     "varRefreshCmd": "print(var_dic_list())"
    },
    "r": {
     "delete_cmd_postfix": ") ",
     "delete_cmd_prefix": "rm(",
     "library": "var_list.r",
     "varRefreshCmd": "cat(var_dic_list()) "
    }
   },
   "types_to_exclude": [
    "module",
    "function",
    "builtin_function_or_method",
    "instance",
    "_Feature"
   ],
   "window_display": false
  }
 },
 "nbformat": 4,
 "nbformat_minor": 2
}
